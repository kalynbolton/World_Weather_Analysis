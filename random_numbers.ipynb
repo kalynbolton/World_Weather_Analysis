{
 "cells": [
  {
   "cell_type": "code",
   "execution_count": 3,
   "id": "da40d4a8",
   "metadata": {},
   "outputs": [],
   "source": [
    "# Import the random Module\n",
    "import random"
   ]
  },
  {
   "cell_type": "code",
   "execution_count": 5,
   "id": "9f1ad887",
   "metadata": {},
   "outputs": [
    {
     "data": {
      "text/plain": [
       "-65"
      ]
     },
     "execution_count": 5,
     "metadata": {},
     "output_type": "execute_result"
    }
   ],
   "source": [
    "random.randint(-90, 90)"
   ]
  },
  {
   "cell_type": "code",
   "execution_count": 6,
   "id": "5cc8591e",
   "metadata": {},
   "outputs": [
    {
     "data": {
      "text/plain": [
       "0.4932516318403677"
      ]
     },
     "execution_count": 6,
     "metadata": {},
     "output_type": "execute_result"
    }
   ],
   "source": [
    "random.random()"
   ]
  },
  {
   "cell_type": "code",
   "execution_count": 8,
   "id": "132babce",
   "metadata": {},
   "outputs": [
    {
     "data": {
      "text/plain": [
       "[58.68691583998285,\n",
       " -80.56324663757782,\n",
       " -79.41440868382539,\n",
       " 89.32649662357377,\n",
       " 71.9090043504428,\n",
       " 79.12434719961198,\n",
       " 25.889954124789313,\n",
       " -5.871705103795338,\n",
       " 31.2234515629074,\n",
       " -30.92085769734988]"
      ]
     },
     "execution_count": 8,
     "metadata": {},
     "output_type": "execute_result"
    }
   ],
   "source": [
    "# Example algorithm of generating latitudes between -90 and 89\n",
    "x = 1\n",
    "latitudes = []\n",
    "while x < 11:\n",
    "    random_lat = random.randint(-90, 89) + random.random()\n",
    "    latitudes.append(random_lat)\n",
    "    x += 1\n",
    "    \n",
    "latitudes"
   ]
  },
  {
   "cell_type": "code",
   "execution_count": 9,
   "id": "bf1e4bd0",
   "metadata": {},
   "outputs": [
    {
     "data": {
      "text/plain": [
       "-80"
      ]
     },
     "execution_count": 9,
     "metadata": {},
     "output_type": "execute_result"
    }
   ],
   "source": [
    "random.randrange(-90, 90, step=1)"
   ]
  },
  {
   "cell_type": "code",
   "execution_count": 14,
   "id": "6a3861b9",
   "metadata": {},
   "outputs": [
    {
     "data": {
      "text/plain": [
       "15"
      ]
     },
     "execution_count": 14,
     "metadata": {},
     "output_type": "execute_result"
    }
   ],
   "source": [
    "# example output where difference between each number in sequence is 3\n",
    "random.randrange(-90, 90, step=3)"
   ]
  },
  {
   "cell_type": "code",
   "execution_count": 15,
   "id": "d9640bba",
   "metadata": {},
   "outputs": [
    {
     "data": {
      "text/plain": [
       "-33.505033870696764"
      ]
     },
     "execution_count": 15,
     "metadata": {},
     "output_type": "execute_result"
    }
   ],
   "source": [
    "random.uniform(-90, 90)"
   ]
  },
  {
   "cell_type": "code",
   "execution_count": 16,
   "id": "89e10d26",
   "metadata": {},
   "outputs": [],
   "source": [
    "# Import the NumPy module.\n",
    "import numpy as np"
   ]
  },
  {
   "cell_type": "code",
   "execution_count": 17,
   "id": "1c0a9610",
   "metadata": {},
   "outputs": [
    {
     "data": {
      "text/plain": [
       "-24.937505481964337"
      ]
     },
     "execution_count": 17,
     "metadata": {},
     "output_type": "execute_result"
    }
   ],
   "source": [
    "np.random.uniform(-90.000, 90.000)"
   ]
  },
  {
   "cell_type": "code",
   "execution_count": 18,
   "id": "9651f998",
   "metadata": {},
   "outputs": [
    {
     "data": {
      "text/plain": [
       "array([-66.51809932,  46.8530784 ,  76.76965768, -19.38781209,\n",
       "       -10.09596046,  44.93620808,  58.70757216, -31.5702195 ,\n",
       "        48.58613181,  13.31761354, -71.65309346, -70.89523089,\n",
       "       -18.34337976,  -9.67215   ,  -9.24265291,  11.14093708,\n",
       "        67.66038545, -17.6859422 ,  21.65707553, -28.66556226,\n",
       "        76.9710947 , -79.96178324,  61.90076175,  78.50060415,\n",
       "        84.8118843 ,  82.75458096, -30.30458647,  29.76697516,\n",
       "        -5.51495101, -21.81020214,  16.18492544,  87.61771237,\n",
       "       -38.68122016,  86.14413836, -49.53344755, -56.17342188,\n",
       "       -45.87510552, -89.14592078, -19.11050824,  38.04586659,\n",
       "        61.64300013,  35.85570163, -22.8099431 , -23.78994806,\n",
       "         2.85284946,  63.50440552,  -0.95794396,  89.17398269,\n",
       "       -80.76955292, -72.41415499])"
      ]
     },
     "execution_count": 18,
     "metadata": {},
     "output_type": "execute_result"
    }
   ],
   "source": [
    "np.random.uniform(-90.000, 90.000, size=50)"
   ]
  },
  {
   "cell_type": "code",
   "execution_count": 21,
   "id": "489a3c52",
   "metadata": {},
   "outputs": [],
   "source": [
    "# Import timeit.\n",
    "import timeit"
   ]
  },
  {
   "cell_type": "code",
   "execution_count": 22,
   "id": "8863546c",
   "metadata": {},
   "outputs": [
    {
     "name": "stdout",
     "output_type": "stream",
     "text": [
      "18.1 µs ± 393 ns per loop (mean ± std. dev. of 7 runs, 100000 loops each)\n"
     ]
    }
   ],
   "source": [
    "%timeit np.random.uniform(-90.000, 90.000, size=1500)"
   ]
  },
  {
   "cell_type": "code",
   "execution_count": 23,
   "id": "3728e975",
   "metadata": {},
   "outputs": [
    {
     "name": "stdout",
     "output_type": "stream",
     "text": [
      "2.91 ms ± 246 µs per loop (mean ± std. dev. of 7 runs, 100 loops each)\n"
     ]
    }
   ],
   "source": [
    "def latitudes(size):\n",
    "    latitudes = []\n",
    "    x = 0\n",
    "    while x < (size):\n",
    "        random_lat = random.randint(-90, 90) + random.random()\n",
    "        latitudes.append(random_lat)\n",
    "        x += 1\n",
    "    return latitudes\n",
    "# Call the function with 1500.\n",
    "%timeit latitudes(1500)"
   ]
  },
  {
   "cell_type": "code",
   "execution_count": null,
   "id": "92dfb3f6",
   "metadata": {},
   "outputs": [],
   "source": []
  }
 ],
 "metadata": {
  "kernelspec": {
   "display_name": "PythonData",
   "language": "python",
   "name": "pythondata"
  },
  "language_info": {
   "codemirror_mode": {
    "name": "ipython",
    "version": 3
   },
   "file_extension": ".py",
   "mimetype": "text/x-python",
   "name": "python",
   "nbconvert_exporter": "python",
   "pygments_lexer": "ipython3",
   "version": "3.7.11"
  }
 },
 "nbformat": 4,
 "nbformat_minor": 5
}
